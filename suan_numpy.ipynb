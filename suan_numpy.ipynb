{
 "cells": [
  {
   "cell_type": "code",
   "execution_count": 1,
   "id": "db8da068",
   "metadata": {},
   "outputs": [
    {
     "data": {
      "text/plain": [
       "'1.19.5'"
      ]
     },
     "execution_count": 1,
     "metadata": {},
     "output_type": "execute_result"
    }
   ],
   "source": [
    "import numpy as np\n",
    "np.__version__"
   ]
  },
  {
   "cell_type": "code",
   "execution_count": 2,
   "id": "4425a2c2",
   "metadata": {},
   "outputs": [
    {
     "name": "stdout",
     "output_type": "stream",
     "text": [
      "[1 2 3]\n",
      "<class 'numpy.ndarray'>\n",
      "(3,)\n",
      "1 2 3\n",
      "[4 2 3]\n"
     ]
    }
   ],
   "source": [
    "a1 = np.array([1, 2, 3])\n",
    "print(a1)\n",
    "print(type(a1))\n",
    "print(a1.shape)\n",
    "print(a1[0], a1[1], a1[2])\n",
    "a1[0] = 4\n",
    "print(a1)"
   ]
  },
  {
   "cell_type": "code",
   "execution_count": 3,
   "id": "9d567e65",
   "metadata": {},
   "outputs": [
    {
     "name": "stdout",
     "output_type": "stream",
     "text": [
      "[[1 2 3]\n",
      " [4 5 6]\n",
      " [7 8 9]]\n",
      "(3, 3)\n",
      "1 5 9\n"
     ]
    }
   ],
   "source": [
    "a2 = np.array([[1, 2, 3], [4, 5, 6], [7, 8, 9]])\n",
    "print(a2)\n",
    "print(a2.shape)\n",
    "print(a2[0, 0], a2[1, 1], a2[2, 2])"
   ]
  },
  {
   "cell_type": "code",
   "execution_count": 4,
   "id": "8a654ed5",
   "metadata": {},
   "outputs": [
    {
     "name": "stdout",
     "output_type": "stream",
     "text": [
      "[[[1 2 3]\n",
      "  [4 5 6]]\n",
      "\n",
      " [[1 2 3]\n",
      "  [4 5 6]]\n",
      "\n",
      " [[1 2 3]\n",
      "  [4 5 6]]]\n",
      "(3, 2, 3)\n",
      "<class 'numpy.ndarray'>\n"
     ]
    }
   ],
   "source": [
    "a3 = np.array([[[1, 2, 3], [4, 5, 6]],\n",
    "               [[1, 2, 3], [4, 5, 6]],\n",
    "               [[1, 2, 3], [4, 5, 6]]])\n",
    "print(a3)\n",
    "print(a3.shape)\n",
    "print(type(a3))"
   ]
  },
  {
   "cell_type": "code",
   "execution_count": 5,
   "id": "9e887736",
   "metadata": {},
   "outputs": [
    {
     "name": "stdout",
     "output_type": "stream",
     "text": [
      "[0. 0. 0. 0. 0. 0. 0. 0. 0. 0.]\n",
      "\n",
      "\n",
      "[1. 1. 1. 1. 1. 1. 1. 1. 1. 1.]\n",
      "[[1. 1. 1.]\n",
      " [1. 1. 1.]\n",
      " [1. 1. 1.]]\n",
      "\n",
      "\n",
      "[[5 5 5]\n",
      " [5 5 5]\n",
      " [5 5 5]]\n",
      "\n",
      "\n",
      "[[1. 0. 0. 0. 0.]\n",
      " [0. 1. 0. 0. 0.]\n",
      " [0. 0. 1. 0. 0.]\n",
      " [0. 0. 0. 1. 0.]\n",
      " [0. 0. 0. 0. 1.]]\n",
      "\n",
      "\n",
      "[[1. 0. 0.]\n",
      " [1. 1. 0.]\n",
      " [1. 1. 1.]]\n",
      "\n",
      "\n",
      "[1. 1. 1. 1. 1. 1. 1. 1. 1. 1.]\n"
     ]
    }
   ],
   "source": [
    "# zeros\n",
    "print(np.zeros(10))\n",
    "\n",
    "print(end = '\\n\\n')\n",
    "\n",
    "# ones\n",
    "print(np.ones(10))\n",
    "print(np.ones((3, 3)))\n",
    "\n",
    "print(end = '\\n\\n')\n",
    "\n",
    "# full\n",
    "print(np.full((3, 3), 5))\n",
    "\n",
    "print(end = '\\n\\n')\n",
    "\n",
    "# eye\n",
    "print(np.eye(5))\n",
    "\n",
    "print(end = '\\n\\n')\n",
    "\n",
    "# tri\n",
    "print(np.tri(3))\n",
    "\n",
    "print(end = '\\n\\n')\n",
    "\n",
    "# empty\n",
    "print(np.empty(10))"
   ]
  },
  {
   "cell_type": "code",
   "execution_count": 6,
   "id": "07e701fb",
   "metadata": {},
   "outputs": [
    {
     "name": "stdout",
     "output_type": "stream",
     "text": [
      "[0 0 0]\n",
      "[1 1 1]\n",
      "[10 10 10]\n"
     ]
    }
   ],
   "source": [
    "print(np.zeros_like(a1))\n",
    "print(np.ones_like(a1))\n",
    "print(np.full_like(a1, 10))"
   ]
  },
  {
   "cell_type": "code",
   "execution_count": 7,
   "id": "cb22b30f",
   "metadata": {},
   "outputs": [
    {
     "data": {
      "text/plain": [
       "array([ 0,  2,  4,  6,  8, 10, 12, 14, 16, 18, 20, 22, 24, 26, 28])"
      ]
     },
     "execution_count": 7,
     "metadata": {},
     "output_type": "execute_result"
    }
   ],
   "source": [
    "np.arange(0, 30, 2)"
   ]
  },
  {
   "cell_type": "code",
   "execution_count": 8,
   "id": "146673b3",
   "metadata": {},
   "outputs": [
    {
     "data": {
      "text/plain": [
       "array([0.  , 0.25, 0.5 , 0.75, 1.  ])"
      ]
     },
     "execution_count": 8,
     "metadata": {},
     "output_type": "execute_result"
    }
   ],
   "source": [
    "np.linspace(0, 1, 5)"
   ]
  },
  {
   "cell_type": "code",
   "execution_count": 9,
   "id": "5aa842b2",
   "metadata": {},
   "outputs": [
    {
     "data": {
      "text/plain": [
       "array([ 1.25892541,  1.40400425,  1.565802  ,  1.74624535,  1.94748304,\n",
       "        2.1719114 ,  2.42220294,  2.70133812,  3.0126409 ,  3.35981829,\n",
       "        3.74700446,  4.17881006,  4.66037703,  5.19743987,  5.79639395,\n",
       "        6.46437163,  7.2093272 ,  8.04013161,  8.9666781 , 10.        ])"
      ]
     },
     "execution_count": 9,
     "metadata": {},
     "output_type": "execute_result"
    }
   ],
   "source": [
    "np.logspace(0.1, 1, 20)"
   ]
  },
  {
   "cell_type": "code",
   "execution_count": 10,
   "id": "ab105671",
   "metadata": {},
   "outputs": [
    {
     "data": {
      "text/plain": [
       "array([[0.60819073, 0.94248697, 0.67322309],\n",
       "       [0.33052194, 0.78661078, 0.30655215],\n",
       "       [0.04189388, 0.18192211, 0.68247912]])"
      ]
     },
     "execution_count": 10,
     "metadata": {},
     "output_type": "execute_result"
    }
   ],
   "source": [
    "np.random.random((3, 3))"
   ]
  },
  {
   "cell_type": "code",
   "execution_count": 11,
   "id": "4b42bba2",
   "metadata": {},
   "outputs": [
    {
     "data": {
      "text/plain": [
       "array([[5, 7, 5],\n",
       "       [0, 6, 0],\n",
       "       [8, 4, 8]])"
      ]
     },
     "execution_count": 11,
     "metadata": {},
     "output_type": "execute_result"
    }
   ],
   "source": [
    "np.random.randint(0, 10, (3, 3))"
   ]
  },
  {
   "cell_type": "code",
   "execution_count": 12,
   "id": "1a7b2ede",
   "metadata": {},
   "outputs": [
    {
     "data": {
      "text/plain": [
       "array([[ 0.34017889,  2.24915981,  0.84168104],\n",
       "       [ 1.35404116, -1.91215571, -2.29438083],\n",
       "       [-0.1337369 , -0.18805195, -0.02832951]])"
      ]
     },
     "execution_count": 12,
     "metadata": {},
     "output_type": "execute_result"
    }
   ],
   "source": [
    "np.random.normal(0, 1, (3, 3))"
   ]
  },
  {
   "cell_type": "code",
   "execution_count": 13,
   "id": "8b8bb752",
   "metadata": {},
   "outputs": [
    {
     "data": {
      "text/plain": [
       "array([[0.36222434, 0.08234683, 0.92428276],\n",
       "       [0.42319986, 0.86717414, 0.63080797],\n",
       "       [0.85498831, 0.85169054, 0.20108817]])"
      ]
     },
     "execution_count": 13,
     "metadata": {},
     "output_type": "execute_result"
    }
   ],
   "source": [
    "np.random.rand(3, 3)"
   ]
  },
  {
   "cell_type": "code",
   "execution_count": 14,
   "id": "d937be8d",
   "metadata": {},
   "outputs": [
    {
     "data": {
      "text/plain": [
       "array([[ 0.46635759,  1.6765193 ,  2.45422   ],\n",
       "       [-0.58682099, -0.98481492,  0.17805581],\n",
       "       [-1.04410776,  1.08053401,  0.18898914]])"
      ]
     },
     "execution_count": 14,
     "metadata": {},
     "output_type": "execute_result"
    }
   ],
   "source": [
    "np.random.randn(3, 3)"
   ]
  },
  {
   "cell_type": "code",
   "execution_count": 15,
   "id": "c407ef20",
   "metadata": {},
   "outputs": [
    {
     "data": {
      "text/plain": [
       "array([0, 0, 0, 0, 0, 0, 0, 0, 0, 0, 0, 0, 0, 0, 0, 0, 0, 0, 0, 0])"
      ]
     },
     "execution_count": 15,
     "metadata": {},
     "output_type": "execute_result"
    }
   ],
   "source": [
    "np.zeros(20, dtype = int)"
   ]
  },
  {
   "cell_type": "code",
   "execution_count": 16,
   "id": "22f799f3",
   "metadata": {},
   "outputs": [
    {
     "data": {
      "text/plain": [
       "array([[ True,  True,  True],\n",
       "       [ True,  True,  True],\n",
       "       [ True,  True,  True]])"
      ]
     },
     "execution_count": 16,
     "metadata": {},
     "output_type": "execute_result"
    }
   ],
   "source": [
    "np.ones((3, 3), dtype = bool)"
   ]
  },
  {
   "cell_type": "code",
   "execution_count": 17,
   "id": "7a5718de",
   "metadata": {},
   "outputs": [
    {
     "data": {
      "text/plain": [
       "array([[1., 1., 1.],\n",
       "       [1., 1., 1.],\n",
       "       [1., 1., 1.]])"
      ]
     },
     "execution_count": 17,
     "metadata": {},
     "output_type": "execute_result"
    }
   ],
   "source": [
    "np.full((3, 3), 1.0, dtype = float)"
   ]
  },
  {
   "cell_type": "code",
   "execution_count": 18,
   "id": "e342703e",
   "metadata": {},
   "outputs": [
    {
     "data": {
      "text/plain": [
       "array([[ True, False, False, False, False],\n",
       "       [False,  True, False, False, False],\n",
       "       [False, False,  True, False, False],\n",
       "       [False, False, False,  True, False],\n",
       "       [False, False, False, False,  True]])"
      ]
     },
     "execution_count": 18,
     "metadata": {},
     "output_type": "execute_result"
    }
   ],
   "source": [
    "np.eye(5, dtype = bool)"
   ]
  },
  {
   "cell_type": "code",
   "execution_count": 19,
   "id": "ea3bb696",
   "metadata": {},
   "outputs": [
    {
     "data": {
      "text/plain": [
       "array([[ True, False, False],\n",
       "       [ True,  True, False],\n",
       "       [ True,  True,  True]])"
      ]
     },
     "execution_count": 19,
     "metadata": {},
     "output_type": "execute_result"
    }
   ],
   "source": [
    "np.tri(3, dtype = bool)"
   ]
  },
  {
   "cell_type": "code",
   "execution_count": 20,
   "id": "88031329",
   "metadata": {},
   "outputs": [
    {
     "data": {
      "text/plain": [
       "array('2020-01-01', dtype='datetime64[D]')"
      ]
     },
     "execution_count": 20,
     "metadata": {},
     "output_type": "execute_result"
    }
   ],
   "source": [
    "date = np.array('2020-01-01', dtype = np.datetime64)\n",
    "date"
   ]
  },
  {
   "cell_type": "code",
   "execution_count": 21,
   "id": "85f9d64d",
   "metadata": {},
   "outputs": [
    {
     "data": {
      "text/plain": [
       "array(['2020-01-01', '2020-01-02', '2020-01-03', '2020-01-04',\n",
       "       '2020-01-05', '2020-01-06', '2020-01-07', '2020-01-08',\n",
       "       '2020-01-09', '2020-01-10', '2020-01-11', '2020-01-12'],\n",
       "      dtype='datetime64[D]')"
      ]
     },
     "execution_count": 21,
     "metadata": {},
     "output_type": "execute_result"
    }
   ],
   "source": [
    "date + np.arange(12)"
   ]
  },
  {
   "cell_type": "code",
   "execution_count": 22,
   "id": "ba638b5c",
   "metadata": {},
   "outputs": [
    {
     "data": {
      "text/plain": [
       "numpy.datetime64('2020-06-01T12:00')"
      ]
     },
     "execution_count": 22,
     "metadata": {},
     "output_type": "execute_result"
    }
   ],
   "source": [
    "datetime = np.datetime64('2020-06-01 12:00')\n",
    "datetime"
   ]
  },
  {
   "cell_type": "code",
   "execution_count": 23,
   "id": "33681229",
   "metadata": {},
   "outputs": [
    {
     "data": {
      "text/plain": [
       "numpy.datetime64('2020-06-01T12:00:12.340000000')"
      ]
     },
     "execution_count": 23,
     "metadata": {},
     "output_type": "execute_result"
    }
   ],
   "source": [
    "datetime = np.datetime64('2020-06-01 12:00:12.34', 'ns')\n",
    "datetime"
   ]
  },
  {
   "cell_type": "code",
   "execution_count": 24,
   "id": "fd5fc9cb",
   "metadata": {},
   "outputs": [
    {
     "data": {
      "text/plain": [
       "array('2020-06-01T12:00:12', dtype='datetime64[s]')"
      ]
     },
     "execution_count": 24,
     "metadata": {},
     "output_type": "execute_result"
    }
   ],
   "source": [
    "datetime = np.array('2020-06-01 12:00:12', dtype = np.datetime64)\n",
    "datetime"
   ]
  },
  {
   "cell_type": "code",
   "execution_count": 25,
   "id": "64d72f11",
   "metadata": {},
   "outputs": [],
   "source": [
    "# array_info\n",
    "\n",
    "def array_info(array):\n",
    "    print(array)\n",
    "    print(\"ndim:\", array.ndim)\n",
    "    print(\"dtype:\", array.dtype)\n",
    "    print(\"shape:\", array.shape)\n",
    "    print(\"size:\", array.size)\n",
    "    print(\"itemsize\", array.itemsize)\n",
    "    print(\"nbytes:\", array.nbytes)\n",
    "    print(\"strides:\", array.strides)"
   ]
  },
  {
   "cell_type": "code",
   "execution_count": 26,
   "id": "7fb3bdf8",
   "metadata": {},
   "outputs": [
    {
     "name": "stdout",
     "output_type": "stream",
     "text": [
      "[4 5 6 4 5]\n",
      "ndim: 1\n",
      "dtype: int64\n",
      "shape: (5,)\n",
      "size: 5\n",
      "itemsize 8\n",
      "nbytes: 40\n",
      "strides: (8,)\n"
     ]
    }
   ],
   "source": [
    "a1 = np.array([4, 5, 6, 4, 5], dtype = np.int64)\n",
    "array_info(a1)"
   ]
  },
  {
   "cell_type": "code",
   "execution_count": 27,
   "id": "629d714b",
   "metadata": {},
   "outputs": [
    {
     "name": "stdout",
     "output_type": "stream",
     "text": [
      "[[1 2 3]\n",
      " [4 5 6]\n",
      " [7 8 9]]\n",
      "ndim: 2\n",
      "dtype: int32\n",
      "shape: (3, 3)\n",
      "size: 9\n",
      "itemsize 4\n",
      "nbytes: 36\n",
      "strides: (12, 4)\n"
     ]
    }
   ],
   "source": [
    "array_info(a2)"
   ]
  },
  {
   "cell_type": "code",
   "execution_count": 28,
   "id": "580bb256",
   "metadata": {},
   "outputs": [
    {
     "name": "stdout",
     "output_type": "stream",
     "text": [
      "[[[1 2 3]\n",
      "  [4 5 6]]\n",
      "\n",
      " [[1 2 3]\n",
      "  [4 5 6]]\n",
      "\n",
      " [[1 2 3]\n",
      "  [4 5 6]]]\n",
      "ndim: 3\n",
      "dtype: int32\n",
      "shape: (3, 2, 3)\n",
      "size: 18\n",
      "itemsize 4\n",
      "nbytes: 72\n",
      "strides: (24, 12, 4)\n"
     ]
    }
   ],
   "source": [
    "array_info(a3)"
   ]
  },
  {
   "cell_type": "code",
   "execution_count": 29,
   "id": "0b0e83fa",
   "metadata": {},
   "outputs": [
    {
     "name": "stdout",
     "output_type": "stream",
     "text": [
      "[4 5 6 4 5]\n",
      "4\n",
      "6\n",
      "5\n",
      "4\n",
      "[4 5]\n"
     ]
    }
   ],
   "source": [
    "print(a1)\n",
    "print(a1[0])\n",
    "print(a1[2])\n",
    "print(a1[-1])\n",
    "print(a1[-2])\n",
    "print(a1[0:2])"
   ]
  },
  {
   "cell_type": "code",
   "execution_count": 30,
   "id": "b1f769d4",
   "metadata": {},
   "outputs": [
    {
     "name": "stdout",
     "output_type": "stream",
     "text": [
      "[[[1 2 3]\n",
      "  [4 5 6]]\n",
      "\n",
      " [[1 2 3]\n",
      "  [4 5 6]]\n",
      "\n",
      " [[1 2 3]\n",
      "  [4 5 6]]]\n",
      "4\n"
     ]
    }
   ],
   "source": [
    "print(a3)\n",
    "print(a3[1, 1, 0])"
   ]
  },
  {
   "cell_type": "code",
   "execution_count": 31,
   "id": "2d7f4960",
   "metadata": {},
   "outputs": [
    {
     "name": "stdout",
     "output_type": "stream",
     "text": [
      "[4 5 6 4 5]\n",
      "[4 6 5]\n",
      "[5 4 6 5 4]\n"
     ]
    }
   ],
   "source": [
    "print(a1)\n",
    "print(a1[::2])\n",
    "print(a1[::-1])"
   ]
  },
  {
   "cell_type": "code",
   "execution_count": 32,
   "id": "76b34521",
   "metadata": {},
   "outputs": [
    {
     "name": "stdout",
     "output_type": "stream",
     "text": [
      "[[1 2 3]\n",
      " [4 5 6]\n",
      " [7 8 9]]\n",
      "\n",
      "\n",
      "[[1 2]]\n"
     ]
    }
   ],
   "source": [
    "print(a2)\n",
    "print(end = \"\\n\\n\")\n",
    "print(a2[:1, :2])"
   ]
  },
  {
   "cell_type": "code",
   "execution_count": 33,
   "id": "ba56a101",
   "metadata": {},
   "outputs": [
    {
     "name": "stdout",
     "output_type": "stream",
     "text": [
      "[4 5 6 4 5]\n",
      "[5 6 5]\n"
     ]
    }
   ],
   "source": [
    "print(a1)\n",
    "bi = [False, True, True, False, True]\n",
    "print(a1[bi])"
   ]
  },
  {
   "cell_type": "code",
   "execution_count": 34,
   "id": "33225c6e",
   "metadata": {},
   "outputs": [
    {
     "name": "stdout",
     "output_type": "stream",
     "text": [
      "[[ True  True  True]\n",
      " [ True False  True]\n",
      " [ True  True False]]\n",
      "[1 2 3 4 6 7 8]\n"
     ]
    }
   ],
   "source": [
    "bi = np.random.randint(0, 2, (3, 3), dtype = bool)\n",
    "print(bi)\n",
    "print(a2[bi])"
   ]
  },
  {
   "cell_type": "code",
   "execution_count": 35,
   "id": "1bb869a9",
   "metadata": {},
   "outputs": [
    {
     "name": "stdout",
     "output_type": "stream",
     "text": [
      "[4 5 6 4 5]\n",
      "[4, 6]\n",
      "[4 6]\n",
      "[[4 5]\n",
      " [6 4]]\n",
      "\n",
      "\n",
      "[[1 2 3]\n",
      " [4 5 6]\n",
      " [7 8 9]]\n",
      "[2 9]\n"
     ]
    }
   ],
   "source": [
    "# fancy indexing\n",
    "print(a1)\n",
    "print([a1[0], a1[2]])\n",
    "idx = [0, 2]\n",
    "print(a1[idx])\n",
    "idx = np.array([[0, 1],\n",
    "               [2, 0]])\n",
    "print(a1[idx])\n",
    "print(end = \"\\n\\n\")\n",
    "print(a2)\n",
    "row = np.array([0, 2])\n",
    "col = np.array([1, 2])\n",
    "print(a2[row, col])"
   ]
  },
  {
   "cell_type": "code",
   "execution_count": 36,
   "id": "fdd91531",
   "metadata": {},
   "outputs": [
    {
     "name": "stdout",
     "output_type": "stream",
     "text": [
      "[4 5 6 4 5]\n",
      "[10  4  5  6  4  5]\n",
      "[4 5 6 4 5]\n",
      "[ 4  5 10  6  4  5]\n"
     ]
    }
   ],
   "source": [
    "# insert\n",
    "print(a1)\n",
    "b1 = np.insert(a1, 0, 10)\n",
    "print(b1)\n",
    "print(a1)\n",
    "c1 = np.insert(a1, 2, 10)\n",
    "print(c1)"
   ]
  },
  {
   "cell_type": "code",
   "execution_count": 37,
   "id": "e96584d1",
   "metadata": {},
   "outputs": [
    {
     "name": "stdout",
     "output_type": "stream",
     "text": [
      "[[1 2 3]\n",
      " [4 5 6]\n",
      " [7 8 9]]\n",
      "[[ 1  2  3]\n",
      " [10 10 10]\n",
      " [ 4  5  6]\n",
      " [ 7  8  9]]\n",
      "[[ 1 10  2  3]\n",
      " [ 4 10  5  6]\n",
      " [ 7 10  8  9]]\n"
     ]
    }
   ],
   "source": [
    "print(a2)\n",
    "b2 = np.insert(a2, 1, 10, axis = 0)\n",
    "print(b2)\n",
    "c2 = np.insert(a2, 1, 10, axis = 1)\n",
    "print(c2)"
   ]
  },
  {
   "cell_type": "code",
   "execution_count": 38,
   "id": "e5ecd9a0",
   "metadata": {},
   "outputs": [
    {
     "name": "stdout",
     "output_type": "stream",
     "text": [
      "[9 2 3 4 5]\n",
      "[9 0 3 0 0]\n",
      "[9 4 3 4 4]\n"
     ]
    }
   ],
   "source": [
    "a1[0] = 1\n",
    "a1[1] = 2\n",
    "a1[2] = 3\n",
    "a1[:1] = 9\n",
    "print(a1)\n",
    "i = np.array([1, 3, 4])\n",
    "a1[i] = 0\n",
    "print(a1)\n",
    "a1[i] += 4\n",
    "print(a1)"
   ]
  },
  {
   "cell_type": "code",
   "execution_count": 39,
   "id": "c7d67889",
   "metadata": {},
   "outputs": [
    {
     "name": "stdout",
     "output_type": "stream",
     "text": [
      "[[1 2 3]\n",
      " [4 5 6]\n",
      " [7 8 9]]\n",
      "[[1 1 1]\n",
      " [4 2 6]\n",
      " [7 8 3]]\n",
      "[[1 0 1]\n",
      " [4 2 0]\n",
      " [7 8 3]]\n"
     ]
    }
   ],
   "source": [
    "print(a2)\n",
    "a2[0, 0] = 1\n",
    "a2[1, 1] = 2\n",
    "a2[2, 2] = 3\n",
    "a2[0] = 1\n",
    "print(a2)\n",
    "row = np.array([0, 1])\n",
    "col = np.array([1, 2])\n",
    "a2[row, col] = 0\n",
    "print(a2)"
   ]
  },
  {
   "cell_type": "code",
   "execution_count": 40,
   "id": "8054addc",
   "metadata": {},
   "outputs": [
    {
     "name": "stdout",
     "output_type": "stream",
     "text": [
      "[9 4 3 4 4]\n",
      "[9 3 4 4]\n",
      "[[1 0 1]\n",
      " [4 2 0]\n",
      " [7 8 3]]\n",
      "[[1 0 1]\n",
      " [7 8 3]]\n",
      "[[1 1]\n",
      " [4 0]\n",
      " [7 3]]\n"
     ]
    }
   ],
   "source": [
    "print(a1)\n",
    "b1 = np.delete(a1, 1) # insert와 마찬가지로 원본배열은 그대로!\n",
    "print(b1)\n",
    "print(a2)\n",
    "b2 = np.delete(a2, 1, axis = 0)\n",
    "print(b2)\n",
    "c2 = np.delete(a2, 1, axis = 1)\n",
    "print(c2)"
   ]
  },
  {
   "cell_type": "code",
   "execution_count": 41,
   "id": "c2eec68d",
   "metadata": {},
   "outputs": [
    {
     "name": "stdout",
     "output_type": "stream",
     "text": [
      "[[1 0 1]\n",
      " [4 2 0]\n",
      " [7 8 3]]\n",
      "[[1 0]\n",
      " [4 2]]\n",
      "[[1 0]\n",
      " [4 0]]\n"
     ]
    }
   ],
   "source": [
    "print(a2) # list 자료형과 달리 배열의 슬라이스는 복사본이 아님. 별도로 만들려면 copy를 써야함.\n",
    "print(a2[:2, :2])\n",
    "a2_sub = a2[:2, :2]\n",
    "a2_sub[:, 1] = 0\n",
    "print(a2_sub)"
   ]
  },
  {
   "cell_type": "code",
   "execution_count": 42,
   "id": "b2ef5fbe",
   "metadata": {},
   "outputs": [
    {
     "name": "stdout",
     "output_type": "stream",
     "text": [
      "[[1 0 1]\n",
      " [4 0 0]\n",
      " [7 8 3]]\n",
      "[[1 0]\n",
      " [4 0]]\n",
      "[[1 1]\n",
      " [4 1]]\n",
      "[[1 0 1]\n",
      " [4 0 0]\n",
      " [7 8 3]]\n"
     ]
    }
   ],
   "source": [
    "print(a2)\n",
    "a2_sub_copy = a2[:2, :2].copy() # 별개의 메모리에 저장이 된다!\n",
    "print(a2_sub_copy)\n",
    "a2_sub_copy[:, 1] = 1\n",
    "print(a2_sub_copy)\n",
    "print(a2)"
   ]
  },
  {
   "cell_type": "code",
   "execution_count": 43,
   "id": "0ed61734",
   "metadata": {},
   "outputs": [
    {
     "name": "stdout",
     "output_type": "stream",
     "text": [
      "[[1 0 1]\n",
      " [4 0 0]\n",
      " [7 8 3]]\n",
      "[[1 4 7]\n",
      " [0 0 8]\n",
      " [1 0 3]]\n",
      "\n",
      "\n",
      "[[[1 2 3]\n",
      "  [4 5 6]]\n",
      "\n",
      " [[1 2 3]\n",
      "  [4 5 6]]\n",
      "\n",
      " [[1 2 3]\n",
      "  [4 5 6]]]\n",
      "\n",
      "\n",
      "[[[1 1 1]\n",
      "  [4 4 4]]\n",
      "\n",
      " [[2 2 2]\n",
      "  [5 5 5]]\n",
      "\n",
      " [[3 3 3]\n",
      "  [6 6 6]]]\n"
     ]
    }
   ],
   "source": [
    "# 배열 변환\n",
    "print(a2)\n",
    "print(a2.T)\n",
    "print(end = \"\\n\\n\")\n",
    "print(a3)\n",
    "print(end = \"\\n\\n\")\n",
    "print(a3.T)"
   ]
  },
  {
   "cell_type": "code",
   "execution_count": 44,
   "id": "577636e7",
   "metadata": {},
   "outputs": [
    {
     "name": "stdout",
     "output_type": "stream",
     "text": [
      "[[1 0 1]\n",
      " [4 0 0]\n",
      " [7 8 3]]\n",
      "[[1 4 7]\n",
      " [0 0 8]\n",
      " [1 0 3]]\n"
     ]
    }
   ],
   "source": [
    "print(a2)\n",
    "print(a2.swapaxes(1, 0))"
   ]
  },
  {
   "cell_type": "code",
   "execution_count": 45,
   "id": "fdf954c1",
   "metadata": {},
   "outputs": [
    {
     "name": "stdout",
     "output_type": "stream",
     "text": [
      "[[[1 2 3]\n",
      "  [4 5 6]]\n",
      "\n",
      " [[1 2 3]\n",
      "  [4 5 6]]\n",
      "\n",
      " [[1 2 3]\n",
      "  [4 5 6]]]\n",
      "(3, 2, 3)\n",
      "\n",
      "\n",
      "[[[1 2 3]\n",
      "  [1 2 3]\n",
      "  [1 2 3]]\n",
      "\n",
      " [[4 5 6]\n",
      "  [4 5 6]\n",
      "  [4 5 6]]]\n",
      "\n",
      "\n",
      "[[[1 2 3]\n",
      "  [1 2 3]\n",
      "  [1 2 3]]\n",
      "\n",
      " [[4 5 6]\n",
      "  [4 5 6]\n",
      "  [4 5 6]]]\n"
     ]
    }
   ],
   "source": [
    "print(a3)\n",
    "print(a3.shape)\n",
    "print(end = \"\\n\\n\")\n",
    "print(a3.swapaxes(0, 1))\n",
    "print(end = \"\\n\\n\")\n",
    "print(a3.transpose(1, 0, 2))"
   ]
  },
  {
   "cell_type": "code",
   "execution_count": 46,
   "id": "53cef1c3",
   "metadata": {},
   "outputs": [
    {
     "name": "stdout",
     "output_type": "stream",
     "text": [
      "[1 2 3 4 5 6 7 8 9]\n",
      "[[1 2 3]\n",
      " [4 5 6]\n",
      " [7 8 9]]\n"
     ]
    }
   ],
   "source": [
    "n1 = np.arange(1, 10)\n",
    "print(n1)\n",
    "print(n1.reshape(3, 3))"
   ]
  },
  {
   "cell_type": "code",
   "execution_count": 47,
   "id": "88e747e5",
   "metadata": {},
   "outputs": [
    {
     "name": "stdout",
     "output_type": "stream",
     "text": [
      "[1 2 3 4 5 6 7 8 9]\n",
      "[[1 2 3 4 5]]\n",
      "[[1]\n",
      " [2]\n",
      " [3]\n",
      " [4]\n",
      " [5]]\n",
      "[4]\n"
     ]
    }
   ],
   "source": [
    "print(n1)\n",
    "print(n1[np.newaxis, :5])\n",
    "print(n1[:5, np.newaxis])\n",
    "print(n1[np.newaxis, 3])"
   ]
  },
  {
   "cell_type": "code",
   "execution_count": 48,
   "id": "ac21b103",
   "metadata": {},
   "outputs": [
    {
     "name": "stdout",
     "output_type": "stream",
     "text": [
      "[[0 0 3 7 9]\n",
      " [9 1 3 1 6]]\n",
      "[[0 0]\n",
      " [3 7]\n",
      " [9 9]\n",
      " [1 3]\n",
      " [1 6]]\n",
      "[[0 0 3 7 9]\n",
      " [9 1 3 1 6]]\n",
      "[[0 0]\n",
      " [3 7]\n",
      " [9 9]\n",
      " [1 3]\n",
      " [1 6]]\n"
     ]
    }
   ],
   "source": [
    "n2 = np.random.randint(0, 10, (2, 5))\n",
    "print(n2)\n",
    "n2.resize(5, 2)\n",
    "print(n2)\n",
    "print(n2.reshape(2, 5))\n",
    "print(n2)"
   ]
  },
  {
   "cell_type": "code",
   "execution_count": 49,
   "id": "acb85a40",
   "metadata": {},
   "outputs": [
    {
     "name": "stdout",
     "output_type": "stream",
     "text": [
      "[[0 0 3 7 9]\n",
      " [9 1 3 1 6]]\n"
     ]
    }
   ],
   "source": [
    "n2.resize(2, 5)\n",
    "print(n2)"
   ]
  },
  {
   "cell_type": "code",
   "execution_count": 50,
   "id": "9531bc51",
   "metadata": {},
   "outputs": [
    {
     "data": {
      "text/plain": [
       "array([[0, 0],\n",
       "       [3, 7],\n",
       "       [9, 9],\n",
       "       [1, 3],\n",
       "       [1, 6]])"
      ]
     },
     "execution_count": 50,
     "metadata": {},
     "output_type": "execute_result"
    }
   ],
   "source": [
    "n2.reshape(5, 2)"
   ]
  },
  {
   "cell_type": "code",
   "execution_count": 51,
   "id": "463f6ef7",
   "metadata": {},
   "outputs": [
    {
     "name": "stdout",
     "output_type": "stream",
     "text": [
      "[[0 0 3 7 9]\n",
      " [9 1 3 1 6]\n",
      " [0 0 0 0 0]\n",
      " [0 0 0 0 0]\n",
      " [0 0 0 0 0]]\n",
      "[[0 0 3]\n",
      " [7 9 9]\n",
      " [1 3 1]]\n"
     ]
    }
   ],
   "source": [
    "n2.resize((5, 5), refcheck = False)\n",
    "print(n2)\n",
    "n2.resize((3, 3), refcheck = False)\n",
    "print(n2)"
   ]
  },
  {
   "cell_type": "code",
   "execution_count": 52,
   "id": "368d304c",
   "metadata": {},
   "outputs": [
    {
     "name": "stdout",
     "output_type": "stream",
     "text": [
      "[[1 2 3]\n",
      " [4 5 6]\n",
      " [7 8 9]]\n",
      "[[10 11 12]\n",
      " [13 14 15]\n",
      " [16 17 18]]\n"
     ]
    }
   ],
   "source": [
    "a2 = np.arange(1, 10).reshape(3, 3)\n",
    "b2 = np.arange(10, 19).reshape(3, 3)\n",
    "print(a2)\n",
    "print(b2)"
   ]
  },
  {
   "cell_type": "code",
   "execution_count": 53,
   "id": "698dec07",
   "metadata": {},
   "outputs": [
    {
     "name": "stdout",
     "output_type": "stream",
     "text": [
      "[[ 1  2  3 10 11 12]\n",
      " [ 4  5  6 13 14 15]\n",
      " [ 7  8  9 16 17 18]]\n"
     ]
    }
   ],
   "source": [
    "c2 = np.append(a2, b2, axis = 1) # axis를 지정해주지 않으면 ndim이 1로 바뀜\n",
    "print(c2)"
   ]
  },
  {
   "cell_type": "code",
   "execution_count": 54,
   "id": "fa5bfbe5",
   "metadata": {},
   "outputs": [
    {
     "data": {
      "text/plain": [
       "array([[1, 2, 3, 1, 2, 3],\n",
       "       [4, 5, 6, 4, 5, 6]])"
      ]
     },
     "execution_count": 54,
     "metadata": {},
     "output_type": "execute_result"
    }
   ],
   "source": [
    "a2 = np.array([[1, 2, 3],\n",
    "               [4, 5, 6]])\n",
    "np.append(a2, a2, axis = 1)"
   ]
  },
  {
   "cell_type": "code",
   "execution_count": 55,
   "id": "d8ae4202",
   "metadata": {},
   "outputs": [
    {
     "data": {
      "text/plain": [
       "array([[1, 2, 3, 1, 2, 3],\n",
       "       [4, 5, 6, 4, 5, 6]])"
      ]
     },
     "execution_count": 55,
     "metadata": {},
     "output_type": "execute_result"
    }
   ],
   "source": [
    "np.concatenate([a2, a2], axis = 1) # concatenate는 3개 이상 붙일 수 있음"
   ]
  },
  {
   "cell_type": "code",
   "execution_count": 56,
   "id": "007ab072",
   "metadata": {},
   "outputs": [
    {
     "name": "stdout",
     "output_type": "stream",
     "text": [
      "[[1 2 3]\n",
      " [4 5 6]]\n"
     ]
    }
   ],
   "source": [
    "print(a2)"
   ]
  },
  {
   "cell_type": "code",
   "execution_count": 57,
   "id": "d0b3c81e",
   "metadata": {
    "scrolled": true
   },
   "outputs": [
    {
     "data": {
      "text/plain": [
       "array([[1, 2, 3],\n",
       "       [4, 5, 6],\n",
       "       [1, 2, 3],\n",
       "       [4, 5, 6]])"
      ]
     },
     "execution_count": 57,
     "metadata": {},
     "output_type": "execute_result"
    }
   ],
   "source": [
    "np.vstack([a2, a2]) # ndim = 1"
   ]
  },
  {
   "cell_type": "code",
   "execution_count": 58,
   "id": "856be2d7",
   "metadata": {},
   "outputs": [
    {
     "data": {
      "text/plain": [
       "array([[1, 2, 3, 1, 2, 3],\n",
       "       [4, 5, 6, 4, 5, 6]])"
      ]
     },
     "execution_count": 58,
     "metadata": {},
     "output_type": "execute_result"
    }
   ],
   "source": [
    "np.hstack([a2, a2]) # ndim = 2"
   ]
  },
  {
   "cell_type": "code",
   "execution_count": 59,
   "id": "5412fdf5",
   "metadata": {},
   "outputs": [
    {
     "data": {
      "text/plain": [
       "array([[[1, 1],\n",
       "        [2, 2],\n",
       "        [3, 3]],\n",
       "\n",
       "       [[4, 4],\n",
       "        [5, 5],\n",
       "        [6, 6]]])"
      ]
     },
     "execution_count": 59,
     "metadata": {},
     "output_type": "execute_result"
    }
   ],
   "source": [
    "np.dstack([a2, a2])# ndim = 3"
   ]
  },
  {
   "cell_type": "code",
   "execution_count": 60,
   "id": "ab80117d",
   "metadata": {},
   "outputs": [
    {
     "data": {
      "text/plain": [
       "array([[[1, 2, 3],\n",
       "        [4, 5, 6]],\n",
       "\n",
       "       [[1, 2, 3],\n",
       "        [4, 5, 6]]])"
      ]
     },
     "execution_count": 60,
     "metadata": {},
     "output_type": "execute_result"
    }
   ],
   "source": [
    "np.stack([a2, a2])"
   ]
  },
  {
   "cell_type": "code",
   "execution_count": 61,
   "id": "2f63faed",
   "metadata": {},
   "outputs": [
    {
     "name": "stdout",
     "output_type": "stream",
     "text": [
      "[ 3  4  5  6  7  8  9 10 11 12 13 14]\n",
      "[3 4 5 6 7] [ 8  9 10 11 12 13 14]\n",
      "[3 4] [5 6] [7 8] [ 9 10]\n"
     ]
    }
   ],
   "source": [
    "# split: 배열 분할\n",
    "\n",
    "a1 = np.arange(3, 15)\n",
    "print(a1)\n",
    "b1, c1 = np.split(a1, [5])\n",
    "print(b1, c1)\n",
    "b1, c1, d1, e1, f1 = np.split(a1, [2, 4, 6, 8])\n",
    "print(b1, c1, d1, e1)"
   ]
  },
  {
   "cell_type": "code",
   "execution_count": 62,
   "id": "540d8d47",
   "metadata": {},
   "outputs": [
    {
     "name": "stdout",
     "output_type": "stream",
     "text": [
      "[[1 2 3]\n",
      " [4 5 6]\n",
      " [7 8 9]]\n",
      "[[1 2 3]\n",
      " [4 5 6]]\n",
      "[[7 8 9]]\n"
     ]
    }
   ],
   "source": [
    "a2 = np.arange(1, 10).reshape(3, 3)\n",
    "print(a2)\n",
    "b2, c2 = np.vsplit(a2, [2])\n",
    "print(b2)\n",
    "print(c2)"
   ]
  },
  {
   "cell_type": "code",
   "execution_count": 63,
   "id": "ace044f8",
   "metadata": {},
   "outputs": [
    {
     "name": "stdout",
     "output_type": "stream",
     "text": [
      "[[1 2 3]\n",
      " [4 5 6]\n",
      " [7 8 9]]\n",
      "[[1 2]\n",
      " [4 5]\n",
      " [7 8]]\n",
      "[[3]\n",
      " [6]\n",
      " [9]]\n"
     ]
    }
   ],
   "source": [
    "a2 = np.arange(1, 10).reshape(3, 3)\n",
    "print(a2)\n",
    "b2, c2 = np.hsplit(a2, [2])\n",
    "print(b2)\n",
    "print(c2)"
   ]
  },
  {
   "cell_type": "code",
   "execution_count": 64,
   "id": "baa3efdd",
   "metadata": {},
   "outputs": [
    {
     "name": "stdout",
     "output_type": "stream",
     "text": [
      "[[[1 2 3]\n",
      "  [4 5 6]]\n",
      "\n",
      " [[1 2 3]\n",
      "  [4 5 6]]\n",
      "\n",
      " [[1 2 3]\n",
      "  [4 5 6]]]\n",
      "[[[1 2]\n",
      "  [4 5]]\n",
      "\n",
      " [[1 2]\n",
      "  [4 5]]\n",
      "\n",
      " [[1 2]\n",
      "  [4 5]]]\n",
      "[[[3]\n",
      "  [6]]\n",
      "\n",
      " [[3]\n",
      "  [6]]\n",
      "\n",
      " [[3]\n",
      "  [6]]]\n"
     ]
    }
   ],
   "source": [
    "a2 = np.arange(1, 28).reshape(3, 3, 3)\n",
    "print(a3)\n",
    "b3, c3 = np.dsplit(a3, [2])\n",
    "print(b3)\n",
    "print(c3)"
   ]
  },
  {
   "cell_type": "code",
   "execution_count": 65,
   "id": "930583be",
   "metadata": {},
   "outputs": [
    {
     "name": "stdout",
     "output_type": "stream",
     "text": [
      "[[ 2  3  4]\n",
      " [ 6  7  8]\n",
      " [10 11 12]]\n"
     ]
    }
   ],
   "source": [
    "a1 = np.arange(1, 10).reshape(3, 3)\n",
    "b2 = np.array([1, 2, 3]).resshape(3, 1)\n",
    "print(a1 + b2)"
   ]
  },
  {
   "cell_type": "code",
   "execution_count": 66,
   "id": "38775949",
   "metadata": {},
   "outputs": [
    {
     "name": "stdout",
     "output_type": "stream",
     "text": [
      "[1 2 3 4 5 6 7 8 9]\n",
      "[ 2  3  4  5  6  7  8  9 10]\n",
      "[11 12 13 14 15 16 17 18 19]\n"
     ]
    }
   ],
   "source": [
    "a1 = np.arange(1, 10)\n",
    "print(a1)\n",
    "print(a1 + 1)\n",
    "print(np.add(a1, 10))"
   ]
  },
  {
   "cell_type": "code",
   "execution_count": 67,
   "id": "5eaf7925",
   "metadata": {},
   "outputs": [
    {
     "name": "stdout",
     "output_type": "stream",
     "text": [
      "[ 3  4  5  6  7  8  9 10 11]\n"
     ]
    }
   ],
   "source": [
    "print(np.subtract(a1, -2))"
   ]
  },
  {
   "cell_type": "code",
   "execution_count": 68,
   "id": "bee50e06",
   "metadata": {},
   "outputs": [
    {
     "name": "stdout",
     "output_type": "stream",
     "text": [
      "[-1 -2 -3 -4 -5 -6 -7 -8 -9]\n",
      "[ 2  4  6  8 10 12 14 16 18]\n",
      "[0.5 1.  1.5 2.  2.5 3.  3.5 4.  4.5]\n",
      "[0 1 1 2 2 3 3 4 4]\n",
      "[0 1 1 2 2 3 3 4 4]\n"
     ]
    }
   ],
   "source": [
    "print(np.negative(a1))\n",
    "print(np.multiply(a1, 2))\n",
    "print(np.divide(a1, 2))\n",
    "print(a1 // 2) # floor_divide 내림....\n",
    "print(np.floor_divide(a1, 2))"
   ]
  },
  {
   "cell_type": "code",
   "execution_count": 69,
   "id": "6a3b336d",
   "metadata": {},
   "outputs": [
    {
     "name": "stdout",
     "output_type": "stream",
     "text": [
      "[ 1  4  9 16 25 36 49 64 81]\n"
     ]
    }
   ],
   "source": [
    "print(np.power(a1, 2)) # 지수"
   ]
  },
  {
   "cell_type": "code",
   "execution_count": 70,
   "id": "b41e7363",
   "metadata": {},
   "outputs": [
    {
     "name": "stdout",
     "output_type": "stream",
     "text": [
      "[1 0 1 0 1 0 1 0 1]\n"
     ]
    }
   ],
   "source": [
    "print(np.mod(a1, 2)) # 나머지"
   ]
  },
  {
   "cell_type": "code",
   "execution_count": 71,
   "id": "4592577c",
   "metadata": {},
   "outputs": [
    {
     "name": "stdout",
     "output_type": "stream",
     "text": [
      "[1 0 1 0 1 0 1 0 1]\n"
     ]
    }
   ],
   "source": [
    "print(a1 % 2) # 나머지"
   ]
  },
  {
   "cell_type": "code",
   "execution_count": 72,
   "id": "d646bd1a",
   "metadata": {},
   "outputs": [
    {
     "name": "stdout",
     "output_type": "stream",
     "text": [
      "[1 2 3 4 5 6 7 8 9]\n",
      "[5 9 7 6 1 5 5 4 8]\n"
     ]
    }
   ],
   "source": [
    "a1 = np.arange(1, 10)\n",
    "b1 = np.random.randint(1, 10, size = 9)\n",
    "print(a1)\n",
    "print(b1)"
   ]
  },
  {
   "cell_type": "code",
   "execution_count": 73,
   "id": "7f11c7ab",
   "metadata": {},
   "outputs": [
    {
     "name": "stdout",
     "output_type": "stream",
     "text": [
      "[ 6 11 10 10  6 11 12 12 17]\n",
      "[-4 -7 -4 -2  4  1  2  4  1]\n",
      "[0.2        0.22222222 0.42857143 0.66666667 5.         1.2\n",
      " 1.4        2.         1.125     ]\n",
      "[0 0 0 0 5 1 1 2 1]\n",
      "[       1      512     2187     4096        5     7776    16807     4096\n",
      " 43046721]\n",
      "[1 2 3 4 0 1 2 0 1]\n"
     ]
    }
   ],
   "source": [
    "print(a1 + b1)\n",
    "print(a1 - b1)\n",
    "print(a1 / b1)\n",
    "print(a1 // b1)\n",
    "print(a1 ** b1)\n",
    "print(a1 % b1)"
   ]
  },
  {
   "cell_type": "code",
   "execution_count": 74,
   "id": "7f5f451a",
   "metadata": {},
   "outputs": [
    {
     "name": "stdout",
     "output_type": "stream",
     "text": [
      "[  1 -10   7  -8   2]\n",
      "[ 1 10  7  8  2]\n"
     ]
    }
   ],
   "source": [
    "a1 = np.random.randint(-10, 10, size = 5)\n",
    "print(a1)\n",
    "print(np.abs(a1))"
   ]
  },
  {
   "cell_type": "code",
   "execution_count": 75,
   "id": "4ed8e07d",
   "metadata": {},
   "outputs": [
    {
     "name": "stdout",
     "output_type": "stream",
     "text": [
      "[  1 -10   7  -8   2]\n",
      "[  1 100  49  64   4]\n",
      "[1.         3.16227766 2.64575131 2.82842712 1.41421356]\n"
     ]
    }
   ],
   "source": [
    "print(a1)\n",
    "print(np.square(a1))\n",
    "print(np.sqrt(np.abs(a1)))"
   ]
  },
  {
   "cell_type": "code",
   "execution_count": 76,
   "id": "c1bcabc3",
   "metadata": {},
   "outputs": [
    {
     "name": "stdout",
     "output_type": "stream",
     "text": [
      "[7 9 1 9 7]\n",
      "[1.09663316e+03 8.10308393e+03 2.71828183e+00 8.10308393e+03\n",
      " 1.09663316e+03]\n",
      "[128. 512.   2. 512. 128.]\n"
     ]
    }
   ],
   "source": [
    "a1 = np.random.randint(1, 10, size = 5)\n",
    "print(a1)\n",
    "print(np.exp(a1))\n",
    "print(np.exp2(a1))"
   ]
  },
  {
   "cell_type": "code",
   "execution_count": 79,
   "id": "fd67be88",
   "metadata": {},
   "outputs": [
    {
     "name": "stdout",
     "output_type": "stream",
     "text": [
      "[7 9 1 9 7]\n",
      "[1.94591015 2.19722458 0.         2.19722458 1.94591015]\n",
      "[2.80735492 3.169925   0.         3.169925   2.80735492]\n",
      "[0.84509804 0.95424251 0.         0.95424251 0.84509804]\n"
     ]
    }
   ],
   "source": [
    "print(a1)\n",
    "print(np.log(a1))\n",
    "print(np.log2(a1))\n",
    "print(np.log10(a1))"
   ]
  },
  {
   "cell_type": "code",
   "execution_count": 86,
   "id": "77f124c9",
   "metadata": {},
   "outputs": [
    {
     "name": "stdout",
     "output_type": "stream",
     "text": [
      "[0.         1.57079633 3.14159265]\n",
      "[0.0000000e+00 1.0000000e+00 1.2246468e-16]\n",
      "[ 1.000000e+00  6.123234e-17 -1.000000e+00]\n",
      "[ 0.00000000e+00  1.63312394e+16 -1.22464680e-16]\n"
     ]
    }
   ],
   "source": [
    "t = np.linspace(0, np.pi, 3)\n",
    "print(t)\n",
    "print(np.sin(t))\n",
    "print(np.cos(t))\n",
    "print(np.tan(t))"
   ]
  },
  {
   "cell_type": "code",
   "execution_count": 88,
   "id": "659bd097",
   "metadata": {},
   "outputs": [
    {
     "name": "stdout",
     "output_type": "stream",
     "text": [
      "[[8 4 7]\n",
      " [4 9 5]\n",
      " [2 3 7]]\n",
      "49\n",
      "49\n",
      "[14 16 19]\n",
      "[19 18 12]\n"
     ]
    }
   ],
   "source": [
    "a2 = np.random.randint(1, 10, size = (3, 3))\n",
    "print(a2)\n",
    "print(a2.sum())\n",
    "print(np.sum(a2))\n",
    "print(a2.sum(axis = 0)) # axis를 기반으로\n",
    "print(np.sum(a2, axis = 1)) # axis를 기반으로"
   ]
  },
  {
   "cell_type": "code",
   "execution_count": 91,
   "id": "260aed0f",
   "metadata": {},
   "outputs": [
    {
     "name": "stdout",
     "output_type": "stream",
     "text": [
      "[[8 4 7]\n",
      " [4 9 5]\n",
      " [2 3 7]]\n",
      "[ 8 12 19 23 32 37 39 42 49]\n",
      "[[ 8 12 19]\n",
      " [ 4 13 18]\n",
      " [ 2  5 12]]\n"
     ]
    }
   ],
   "source": [
    "print(a2)\n",
    "print(np.cumsum(a2)) # cumulative sum\n",
    "print(np.cumsum(a2, axis = 1))"
   ]
  },
  {
   "cell_type": "code",
   "execution_count": 94,
   "id": "e0e58834",
   "metadata": {},
   "outputs": [
    {
     "name": "stdout",
     "output_type": "stream",
     "text": [
      "[[8 4 7]\n",
      " [4 9 5]\n",
      " [2 3 7]]\n",
      "[[-4  3]\n",
      " [ 5 -4]\n",
      " [ 1  4]]\n",
      "[[-4  5 -2]\n",
      " [-2 -6  2]]\n",
      "[[-4  3]\n",
      " [ 5 -4]\n",
      " [ 1  4]]\n"
     ]
    }
   ],
   "source": [
    "print(a2)\n",
    "print(np.diff(a2))\n",
    "print(np.diff(a2, axis = 0))\n",
    "print(np.diff(a2, axis = 1))"
   ]
  },
  {
   "cell_type": "code",
   "execution_count": 96,
   "id": "89a56d96",
   "metadata": {},
   "outputs": [
    {
     "name": "stdout",
     "output_type": "stream",
     "text": [
      "[[8 4 7]\n",
      " [4 9 5]\n",
      " [2 3 7]]\n",
      "1693440\n",
      "[ 64 108 245]\n",
      "[224 180  42]\n"
     ]
    }
   ],
   "source": [
    "print(a2)\n",
    "print(np.prod(a2))\n",
    "print(np.prod(a2, axis = 0))\n",
    "print(np.prod(a2, axis = 1))"
   ]
  },
  {
   "cell_type": "code",
   "execution_count": 114,
   "id": "81e6a32c",
   "metadata": {},
   "outputs": [
    {
     "name": "stdout",
     "output_type": "stream",
     "text": [
      "[[8 4 7]\n",
      " [4 9 5]\n",
      " [2 3 7]]\n",
      "[      8      32     224     896    8064   40320   80640  241920 1693440]\n",
      "[[  8   4   7]\n",
      " [ 32  36  35]\n",
      " [ 64 108 245]]\n",
      "[[  8  32 224]\n",
      " [  4  36 180]\n",
      " [  2   6  42]]\n"
     ]
    }
   ],
   "source": [
    "print(a2)\n",
    "print(np.cumprod(a2))\n",
    "print(np.cumprod(a2, axis = 0))\n",
    "print(np.cumprod(a2, axis = 1))"
   ]
  },
  {
   "cell_type": "code",
   "execution_count": 102,
   "id": "f520d166",
   "metadata": {},
   "outputs": [
    {
     "name": "stdout",
     "output_type": "stream",
     "text": [
      "[[8 4 7]\n",
      " [4 9 5]\n",
      " [2 3 7]]\n",
      "[[1 1 1]\n",
      " [1 1 1]\n",
      " [1 1 1]]\n",
      "[[8 4 7]\n",
      " [4 9 5]\n",
      " [2 3 7]]\n",
      "[[19 19 19]\n",
      " [18 18 18]\n",
      " [12 12 12]]\n",
      "[[19 19 19]\n",
      " [18 18 18]\n",
      " [12 12 12]]\n"
     ]
    }
   ],
   "source": [
    "b2 = np.ones_like(a2)\n",
    "print(a2)\n",
    "print(b2)\n",
    "print(a2 * b2)\n",
    "print(np.dot(a2, b2)) # dot과 matmul이 동일하게 결과가 나옴\n",
    "print(np.matmul(a2, b2)) # dot과 matmul이 동일하게 결과가 나옴"
   ]
  },
  {
   "cell_type": "code",
   "execution_count": 103,
   "id": "b5683dea",
   "metadata": {},
   "outputs": [
    {
     "name": "stdout",
     "output_type": "stream",
     "text": [
      "[[8 4 7]\n",
      " [4 9 5]\n",
      " [2 3 7]]\n",
      "[[1 1 1]\n",
      " [1 1 1]\n",
      " [1 1 1]]\n",
      "49\n"
     ]
    }
   ],
   "source": [
    "print(a2)\n",
    "print(b2)\n",
    "print(np.tensordot(a2, b2))"
   ]
  },
  {
   "cell_type": "code",
   "execution_count": 123,
   "id": "944723d8",
   "metadata": {},
   "outputs": [
    {
     "name": "stdout",
     "output_type": "stream",
     "text": [
      "[[8 4 7]\n",
      " [4 9 5]\n",
      " [2 3 7]]\n",
      "[[1 1 1]\n",
      " [1 1 1]\n",
      " [1 1 1]]\n",
      "[[19 19 19]\n",
      " [18 18 18]\n",
      " [12 12 12]]\n"
     ]
    }
   ],
   "source": [
    "z2 = np.ones_like(a2)\n",
    "print(a2)\n",
    "print(z2)\n",
    "\n",
    "print(np.tensordot(a2, z2, axes = 1))"
   ]
  },
  {
   "cell_type": "code",
   "execution_count": 109,
   "id": "3082a080",
   "metadata": {},
   "outputs": [
    {
     "data": {
      "text/plain": [
       "137"
      ]
     },
     "execution_count": 109,
     "metadata": {},
     "output_type": "execute_result"
    }
   ],
   "source": [
    "8 * 2 + 4 * 6 + 7 * 2 + 4 * 6 + 9 * 2 + 5 * 2 + 2 + 15 + 14"
   ]
  },
  {
   "cell_type": "code",
   "execution_count": 130,
   "id": "ead3eb64",
   "metadata": {},
   "outputs": [
    {
     "name": "stdout",
     "output_type": "stream",
     "text": [
      "[[1 2]\n",
      " [3 4]]\n",
      "[[5 6]\n",
      " [7 8]]\n",
      "\n",
      "\n",
      "70\n",
      "\n",
      "\n",
      "[[[[ 5  6]\n",
      "   [ 7  8]]\n",
      "\n",
      "  [[10 12]\n",
      "   [14 16]]]\n",
      "\n",
      "\n",
      " [[[15 18]\n",
      "   [21 24]]\n",
      "\n",
      "  [[20 24]\n",
      "   [28 32]]]]\n",
      "\n",
      "\n",
      "[[19 22]\n",
      " [43 50]]\n",
      "\n",
      "\n",
      "[[19 22]\n",
      " [43 50]]\n"
     ]
    }
   ],
   "source": [
    "aaa = np.arange(1, 5).reshape(2, 2)\n",
    "bbb = np.arange(5, 9).reshape(2, 2)\n",
    "print(aaa)\n",
    "print(bbb)\n",
    "print(end = \"\\n\\n\")\n",
    "print(np.tensordot(aaa, bbb))\n",
    "print(end = \"\\n\\n\")\n",
    "print(np.tensordot(aaa, bbb, axes = 0))\n",
    "print(end = \"\\n\\n\")\n",
    "print(np.tensordot(aaa, bbb, axes = 1)) # dot과 같은 결과가 나온다\n",
    "print(end = \"\\n\\n\")\n",
    "print(np.dot(aaa, bbb))"
   ]
  },
  {
   "cell_type": "code",
   "execution_count": 132,
   "id": "8b97af96",
   "metadata": {},
   "outputs": [
    {
     "name": "stdout",
     "output_type": "stream",
     "text": [
      "[-5  7 -3]\n"
     ]
    }
   ],
   "source": [
    "# cross\n",
    "\n",
    "x = [1, 2, 3]\n",
    "y = [4, 5, 5]\n",
    "print(np.cross(x, y)) # 2 * 5 - 3 * 5 + 3 * 4 - 1* 5 + 1 * 5 - 2* 4"
   ]
  },
  {
   "cell_type": "code",
   "execution_count": 135,
   "id": "1c3266ee",
   "metadata": {},
   "outputs": [
    {
     "name": "stdout",
     "output_type": "stream",
     "text": [
      "[[8 4 7]\n",
      " [4 9 5]\n",
      " [2 3 7]]\n",
      "[[1 1 1]\n",
      " [1 1 1]\n",
      " [1 1 1]]\n",
      "[[19 19 19]\n",
      " [18 18 18]\n",
      " [12 12 12]]\n",
      "[[19 19 19]\n",
      " [18 18 18]\n",
      " [12 12 12]]\n",
      "[[19 19 19]\n",
      " [18 18 18]\n",
      " [12 12 12]]\n",
      "[[8 8 8 8 8 8 8 8 8]\n",
      " [4 4 4 4 4 4 4 4 4]\n",
      " [7 7 7 7 7 7 7 7 7]\n",
      " [4 4 4 4 4 4 4 4 4]\n",
      " [9 9 9 9 9 9 9 9 9]\n",
      " [5 5 5 5 5 5 5 5 5]\n",
      " [2 2 2 2 2 2 2 2 2]\n",
      " [3 3 3 3 3 3 3 3 3]\n",
      " [7 7 7 7 7 7 7 7 7]]\n"
     ]
    }
   ],
   "source": [
    "# inner / outer\n",
    "\n",
    "print(a2)\n",
    "print(b2)\n",
    "print(np.inner(a2, b2)) # inner, dot, matmul 전부 같다\n",
    "print(np.dot(a2, b2)) # inner, dot, matmul 전부 같다\n",
    "print(np.matmul(a2, b2)) # inner, dot, matmul 전부 같다\n",
    "print(np.outer(a2, b2))"
   ]
  },
  {
   "cell_type": "code",
   "execution_count": 136,
   "id": "53ff65a2",
   "metadata": {},
   "outputs": [
    {
     "name": "stdout",
     "output_type": "stream",
     "text": [
      "[[1 2]\n",
      " [3 4]]\n",
      "[[5 6]\n",
      " [7 8]]\n",
      "[[ 5  6  7  8]\n",
      " [10 12 14 16]\n",
      " [15 18 21 24]\n",
      " [20 24 28 32]]\n"
     ]
    }
   ],
   "source": [
    "print(aaa)\n",
    "print(bbb)\n",
    "print(np.outer(aaa, bbb))"
   ]
  },
  {
   "cell_type": "code",
   "execution_count": 142,
   "id": "8097b23c",
   "metadata": {},
   "outputs": [
    {
     "name": "stdout",
     "output_type": "stream",
     "text": [
      "5.444444444444445\n",
      "[4.66666667 5.33333333 6.33333333]\n",
      "[6.33333333 6.         4.        ]\n"
     ]
    }
   ],
   "source": [
    "print(np.mean(a2))\n",
    "print(np.mean(a2, axis = 0))\n",
    "print(np.mean(a2, axis = 1))"
   ]
  },
  {
   "cell_type": "code",
   "execution_count": 145,
   "id": "95f3b346",
   "metadata": {
    "scrolled": true
   },
   "outputs": [
    {
     "name": "stdout",
     "output_type": "stream",
     "text": [
      "[[8 4 7]\n",
      " [4 9 5]\n",
      " [2 3 7]]\n",
      "2.2662308949301266\n",
      "5.135802469135802\n"
     ]
    }
   ],
   "source": [
    "print(a2)\n",
    "print(np.std(a2))\n",
    "print(np.var(a2))"
   ]
  },
  {
   "cell_type": "code",
   "execution_count": 151,
   "id": "5676568b",
   "metadata": {},
   "outputs": [
    {
     "name": "stdout",
     "output_type": "stream",
     "text": [
      "[[8 4 7]\n",
      " [4 9 5]\n",
      " [2 3 7]]\n",
      "9\n",
      "4\n",
      "5.0\n",
      "49\n"
     ]
    }
   ],
   "source": [
    "print(a2)\n",
    "print(np.max(a2))\n",
    "print(np.argmax(a2))\n",
    "print(np.median(a2))\n",
    "print(np.sum(a2))"
   ]
  },
  {
   "cell_type": "code",
   "execution_count": 153,
   "id": "338b1959",
   "metadata": {},
   "outputs": [
    {
     "name": "stdout",
     "output_type": "stream",
     "text": [
      "[0 1 2 3]\n",
      "[0.  0.6 1.2 1.8 2.4 3. ]\n",
      "[0.  0.6 1.2 1.8 2.4 3. ]\n",
      "[0 1 2 2 3 3]\n",
      "[0 0 1 1 2 3]\n",
      "[0 1 1 2 2 3]\n",
      "[0.  0.5 1.5 1.5 2.5 3. ]\n"
     ]
    }
   ],
   "source": [
    "a1 = np.array([0, 1, 2, 3])\n",
    "print(a1)\n",
    "print(np.percentile(a1, [0, 20, 40, 60, 80, 100]))\n",
    "print(np.percentile(a1, [0, 20, 40, 60, 80, 100], interpolation = 'linear'))\n",
    "print(np.percentile(a1, [0, 20, 40, 60, 80, 100], interpolation = 'higher'))\n",
    "print(np.percentile(a1, [0, 20, 40, 60, 80, 100], interpolation = 'lower'))\n",
    "print(np.percentile(a1, [0, 20, 40, 60, 80, 100], interpolation = 'nearest'))\n",
    "print(np.percentile(a1, [0, 20, 40, 60, 80, 100], interpolation = 'midpoint'))"
   ]
  },
  {
   "cell_type": "code",
   "execution_count": 179,
   "id": "92f1f9cf",
   "metadata": {},
   "outputs": [
    {
     "name": "stdout",
     "output_type": "stream",
     "text": [
      "[[False  True False]\n",
      " [False  True  True]\n",
      " [False  True  True]]\n",
      "True\n",
      "[False  True  True]\n",
      "[ True  True  True]\n",
      "False\n",
      "[False  True False]\n"
     ]
    }
   ],
   "source": [
    "a2 = np.array([[0, 1, 0],\n",
    "               [0, 1, 1],\n",
    "               [0, 1, 1]])\n",
    "a2_bool = a2.astype(np.bool)\n",
    "print(a2_bool)\n",
    "print(np.any(a2_bool)) # 이중 하나라도 true라면 true\n",
    "print(np.any(a2_bool, axis = 0))\n",
    "print(np.any(a2_bool, axis = 1))\n",
    "print(np.all(a2_bool))\n",
    "print(np.all(a2_bool, axis = 0))"
   ]
  },
  {
   "cell_type": "code",
   "execution_count": 185,
   "id": "6ebe2faa",
   "metadata": {},
   "outputs": [
    {
     "name": "stdout",
     "output_type": "stream",
     "text": [
      "[1 2 3 4 5 6 7 8 9]\n",
      "[False False False False  True False False False False]\n",
      "[False False False False  True False False False False]\n",
      "[ True  True  True  True False  True  True  True  True]\n",
      "[ True  True  True  True False False False False False]\n",
      "[False False False False False  True  True  True  True]\n",
      "[False False False False  True  True  True  True  True]\n",
      "[ True  True  True  True  True False False False False]\n"
     ]
    }
   ],
   "source": [
    "# comparision operators\n",
    "\n",
    "a1 = np.arange(1, 10)\n",
    "print(a1)\n",
    "print(a1 == 5)\n",
    "print(np.equal(a1, 5))\n",
    "print(a1 != 5)\n",
    "print(a1 < 5)\n",
    "print(a1 > 5)\n",
    "print(a1 >= 5)\n",
    "print(a1 <= 5)"
   ]
  },
  {
   "cell_type": "code",
   "execution_count": 195,
   "id": "2f9914e7",
   "metadata": {},
   "outputs": [
    {
     "name": "stdout",
     "output_type": "stream",
     "text": [
      "[[1 2 3]\n",
      " [4 5 6]\n",
      " [7 8 9]]\n",
      "45\n",
      "4\n",
      "[0 1 3]\n",
      "True\n",
      "[False False  True]\n"
     ]
    }
   ],
   "source": [
    "a2 = np.arange(1, 10).reshape(3, 3)\n",
    "print(a2)\n",
    "print(np.sum(a2))\n",
    "print(np.count_nonzero(a2 > 5))\n",
    "print(np.sum(a2 > 5, axis = 1))\n",
    "print(np.any(a2 > 5))\n",
    "print(np.all(a2 > 5, axis = 1))"
   ]
  },
  {
   "cell_type": "code",
   "execution_count": 196,
   "id": "93999cdd",
   "metadata": {},
   "outputs": [
    {
     "name": "stdout",
     "output_type": "stream",
     "text": [
      "[1 2 3 4 5]\n",
      "[1 2 3 3 4]\n",
      "[ True  True  True False False]\n"
     ]
    }
   ],
   "source": [
    "a1 = np.array([1, 2, 3, 4, 5])\n",
    "print(a1)\n",
    "b1 = np.array([1, 2 ,3, 3, 4])\n",
    "print(b1)\n",
    "print(np.isclose(a1, b1)) # 배열 두개가 (z*1e+02)% 내외로 가까우면, True, 멀면 Flase"
   ]
  },
  {
   "cell_type": "code",
   "execution_count": 201,
   "id": "7eedec7c",
   "metadata": {},
   "outputs": [
    {
     "name": "stdout",
     "output_type": "stream",
     "text": [
      "[ nan   2.  inf   4. -inf]\n",
      "[ True False False False False]\n",
      "[False False  True False  True]\n",
      "[False  True False  True False]\n"
     ]
    }
   ],
   "source": [
    "a1 = np.array([np.nan, 2, np.inf, 4, np.NINF])\n",
    "print(a1)\n",
    "print(np.isnan(a1))\n",
    "print(np.isinf(a1))\n",
    "print(np.isfinite(a1))"
   ]
  },
  {
   "cell_type": "code",
   "execution_count": 211,
   "id": "9cd6429b",
   "metadata": {},
   "outputs": [
    {
     "name": "stdout",
     "output_type": "stream",
     "text": [
      "[[1 2 3]\n",
      " [4 5 6]\n",
      " [7 8 9]]\n",
      "[[False False False]\n",
      " [False False  True]\n",
      " [ True False False]]\n",
      "[False False False False False  True  True False False]\n",
      "[6 7]\n",
      "[[ True  True  True]\n",
      " [ True  True  True]\n",
      " [ True  True  True]]\n",
      "[[ True  True  True]\n",
      " [ True  True False]\n",
      " [False  True  True]]\n",
      "[[False False False]\n",
      " [False False  True]\n",
      " [ True  True  True]]\n",
      "[[ True  True  True]\n",
      " [ True  True False]\n",
      " [False False False]]\n"
     ]
    }
   ],
   "source": [
    "a2 = np.arange(1, 10).reshape(3, 3)\n",
    "print(a2)\n",
    "print((a2 > 5) & (a2 < 8))\n",
    "print(((a2 > 5) & (a2 < 8)).reshape(-1,))\n",
    "print(a2[(a2 > 5) & (a2 < 8)])\n",
    "print((a2 > 5) | (a2 < 8)) # OR\n",
    "print((a2 > 5) ^ (a2 < 8)) # XOR\n",
    "print(a2 > 5)\n",
    "print(~(a2 > 5)) # NO"
   ]
  },
  {
   "cell_type": "code",
   "execution_count": 215,
   "id": "03c4127a",
   "metadata": {
    "scrolled": true
   },
   "outputs": [
    {
     "name": "stdout",
     "output_type": "stream",
     "text": [
      "[5 8 9 8 1 9 9 5 6 6]\n",
      "[1 5 5 6 6 8 8 9 9 9]\n",
      "[4 0 7 8 9 1 3 2 5 6]\n",
      "[1 5 5 6 6 8 8 9 9 9]\n"
     ]
    }
   ],
   "source": [
    "a1 = np.random.randint(1, 10, size = 10)\n",
    "print(a1)\n",
    "print(np.sort(a1))\n",
    "print(np.argsort(a1)) # 위치값만\n",
    "a1.sort()\n",
    "print(a1)"
   ]
  },
  {
   "cell_type": "code",
   "execution_count": 218,
   "id": "b4c70236",
   "metadata": {},
   "outputs": [
    {
     "name": "stdout",
     "output_type": "stream",
     "text": [
      "[[1 6 4]\n",
      " [7 5 2]\n",
      " [6 5 8]]\n",
      "[[1 4 6]\n",
      " [2 5 7]\n",
      " [5 6 8]]\n",
      "[[1 5 2]\n",
      " [6 5 4]\n",
      " [7 6 8]]\n",
      "[[1 4 6]\n",
      " [2 5 7]\n",
      " [5 6 8]]\n"
     ]
    }
   ],
   "source": [
    "a2 = np.random.randint(1, 10, size = (3, 3))\n",
    "print(a2)\n",
    "print(np.sort(a2))\n",
    "print(np.sort(a2, axis = 0))\n",
    "print(np.sort(a2, axis = 1))"
   ]
  },
  {
   "cell_type": "code",
   "execution_count": 233,
   "id": "749e3d5a",
   "metadata": {},
   "outputs": [
    {
     "name": "stdout",
     "output_type": "stream",
     "text": [
      "[9 8 7 6 5 4 3 2 1]\n",
      "[1 8 7 6 5 4 3 2 9]\n"
     ]
    }
   ],
   "source": [
    "# partition 부분 정렬\n",
    "a1 = np.arange(1, 10)[::-1]\n",
    "print(a1)\n",
    "print(np.partition(a1, 0))"
   ]
  },
  {
   "cell_type": "code",
   "execution_count": 245,
   "id": "79e1819d",
   "metadata": {},
   "outputs": [
    {
     "name": "stdout",
     "output_type": "stream",
     "text": [
      "[[4 6 9 6 4]\n",
      " [6 2 8 9 9]\n",
      " [6 6 7 1 1]\n",
      " [8 3 8 7 2]\n",
      " [3 4 1 8 7]]\n"
     ]
    }
   ],
   "source": [
    "a2 = np.random.randint(1, 10, size = (5, 5))\n",
    "print(a2)\n",
    "np.save(\"a\", a2)"
   ]
  },
  {
   "cell_type": "code",
   "execution_count": 248,
   "id": "1ef6f442",
   "metadata": {},
   "outputs": [
    {
     "name": "stdout",
     "output_type": "stream",
     "text": [
      "[[9 3 9 4 1]\n",
      " [7 1 3 4 7]\n",
      " [1 2 1 2 9]\n",
      " [5 6 2 6 8]\n",
      " [1 9 8 4 9]]\n"
     ]
    }
   ],
   "source": [
    "b2 = np.random.randint(1, 10, size = (5, 5))\n",
    "print(b2)\n",
    "np.savez(\"ab\", a2, b2)"
   ]
  },
  {
   "cell_type": "code",
   "execution_count": 249,
   "id": "5f0908cd",
   "metadata": {},
   "outputs": [
    {
     "name": "stdout",
     "output_type": "stream",
     "text": [
      "[[4 6 9 6 4]\n",
      " [6 2 8 9 9]\n",
      " [6 6 7 1 1]\n",
      " [8 3 8 7 2]\n",
      " [3 4 1 8 7]]\n"
     ]
    }
   ],
   "source": [
    "npy = np.load(\"a.npy\")\n",
    "print(npy)"
   ]
  },
  {
   "cell_type": "code",
   "execution_count": 256,
   "id": "6f285846",
   "metadata": {},
   "outputs": [
    {
     "name": "stdout",
     "output_type": "stream",
     "text": [
      "<numpy.lib.npyio.NpzFile object at 0x000002906F9CE160>\n",
      "['arr_0', 'arr_1']\n",
      "[[4 6 9 6 4]\n",
      " [6 2 8 9 9]\n",
      " [6 6 7 1 1]\n",
      " [8 3 8 7 2]\n",
      " [3 4 1 8 7]]\n",
      "[[9 3 9 4 1]\n",
      " [7 1 3 4 7]\n",
      " [1 2 1 2 9]\n",
      " [5 6 2 6 8]\n",
      " [1 9 8 4 9]]\n"
     ]
    }
   ],
   "source": [
    "npz = np.load(\"ab.npz\")\n",
    "print(npz)\n",
    "print(npz.files)\n",
    "print(npz['arr_0'])\n",
    "print(npz['arr_1'])"
   ]
  },
  {
   "cell_type": "code",
   "execution_count": 281,
   "id": "02c83599",
   "metadata": {},
   "outputs": [
    {
     "name": "stdout",
     "output_type": "stream",
     "text": [
      "[[4 6 9 6 4]\n",
      " [6 2 8 9 9]\n",
      " [6 6 7 1 1]\n",
      " [8 3 8 7 2]\n",
      " [3 4 1 8 7]]\n"
     ]
    }
   ],
   "source": [
    "print(a2)\n",
    "np.savetxt(\"a.csv\", a2, delimiter = \",\")"
   ]
  },
  {
   "cell_type": "code",
   "execution_count": 307,
   "id": "41a04b3a",
   "metadata": {},
   "outputs": [
    {
     "name": "stdout",
     "output_type": "stream",
     "text": [
      "[[4. 6. 9. 6. 4.]\n",
      " [6. 2. 8. 9. 9.]\n",
      " [6. 6. 7. 1. 1.]\n",
      " [8. 3. 8. 7. 2.]\n",
      " [3. 4. 1. 8. 7.]]\n"
     ]
    }
   ],
   "source": [
    "csv = np.loadtxt(\"a.csv\", delimiter = \",\")\n",
    "print(csv)"
   ]
  },
  {
   "cell_type": "code",
   "execution_count": 311,
   "id": "3a4ca836",
   "metadata": {},
   "outputs": [
    {
     "name": "stdout",
     "output_type": "stream",
     "text": [
      "[[9 3 9 4 1]\n",
      " [7 1 3 4 7]\n",
      " [1 2 1 2 9]\n",
      " [5 6 2 6 8]\n",
      " [1 9 8 4 9]]\n",
      "[[9. 3. 9. 4. 1.]\n",
      " [7. 1. 3. 4. 7.]\n",
      " [1. 2. 1. 2. 9.]\n",
      " [5. 6. 2. 6. 8.]\n",
      " [1. 9. 8. 4. 9.]]\n"
     ]
    }
   ],
   "source": [
    "print(b2)\n",
    "np.savetxt(\"b.csv\", b2, delimiter = \",\", fmt = \"%.2e\", header = \"c1, c2, c3, c4, c5\")\n",
    "csv = np.loadtxt(\"b.csv\", delimiter = \",\")\n",
    "print(csv)"
   ]
  },
  {
   "cell_type": "code",
   "execution_count": null,
   "id": "b184db2a",
   "metadata": {},
   "outputs": [],
   "source": []
  },
  {
   "cell_type": "code",
   "execution_count": null,
   "id": "070dd917",
   "metadata": {},
   "outputs": [],
   "source": []
  }
 ],
 "metadata": {
  "kernelspec": {
   "display_name": "Python 3",
   "language": "python",
   "name": "python3"
  },
  "language_info": {
   "codemirror_mode": {
    "name": "ipython",
    "version": 3
   },
   "file_extension": ".py",
   "mimetype": "text/x-python",
   "name": "python",
   "nbconvert_exporter": "python",
   "pygments_lexer": "ipython3",
   "version": "3.8.8"
  }
 },
 "nbformat": 4,
 "nbformat_minor": 5
}
